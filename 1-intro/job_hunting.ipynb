{
  "nbformat": 4,
  "nbformat_minor": 0,
  "metadata": {
    "colab": {
      "name": "job-hunting.ipynb",
      "provenance": [],
      "collapsed_sections": [],
      "authorship_tag": "ABX9TyMZ3g3uBFMtS9jmigdUQ5ch",
      "include_colab_link": true
    },
    "kernelspec": {
      "name": "python3",
      "display_name": "Python 3"
    }
  },
  "cells": [
    {
      "cell_type": "markdown",
      "metadata": {
        "id": "view-in-github",
        "colab_type": "text"
      },
      "source": [
        "<a href=\"https://colab.research.google.com/github/glebmikha/data-analysis-master-class/blob/main/1-intro/job_hunting.ipynb\" target=\"_parent\"><img src=\"https://colab.research.google.com/assets/colab-badge.svg\" alt=\"Open In Colab\"/></a>"
      ]
    },
    {
      "cell_type": "markdown",
      "metadata": {
        "id": "yyweqh4OSmcf"
      },
      "source": [
        "# Как искать работу?"
      ]
    },
    {
      "cell_type": "markdown",
      "metadata": {
        "id": "CIObD3SFSfh-"
      },
      "source": [
        "Мой канал в тг https://t.me/mikhaylovgleb"
      ]
    },
    {
      "cell_type": "code",
      "metadata": {
        "id": "tS8q1VXA2ZYY"
      },
      "source": [
        "import pandas as pd"
      ],
      "execution_count": null,
      "outputs": []
    },
    {
      "cell_type": "markdown",
      "metadata": {
        "id": "x8RLHB6x2mev"
      },
      "source": [
        "Я к поиску работы отношусь, как с случайному процессу. Представь, что вероятность того, что отклик на вакансии на hh.ru конвертиться в работу с вероятностью, скажем ..."
      ]
    },
    {
      "cell_type": "code",
      "metadata": {
        "id": "uluLCo8K2cpR"
      },
      "source": [
        "p = 0.01"
      ],
      "execution_count": null,
      "outputs": []
    },
    {
      "cell_type": "markdown",
      "metadata": {
        "id": "XkJY6uja3JnS"
      },
      "source": [
        "Цифра может быть выше или ниже. Не так важно. Какова вероятнось того, что я не найду работу с одного отклика?\n"
      ]
    },
    {
      "cell_type": "code",
      "metadata": {
        "id": "Te1mxrUL3CeK",
        "colab": {
          "base_uri": "https://localhost:8080/",
          "height": 34
        },
        "outputId": "28f8a090-4748-4f2e-e9a9-604b5118c269"
      },
      "source": [
        "1-p"
      ],
      "execution_count": null,
      "outputs": [
        {
          "output_type": "execute_result",
          "data": {
            "text/plain": [
              "0.99"
            ]
          },
          "metadata": {
            "tags": []
          },
          "execution_count": 3
        }
      ]
    },
    {
      "cell_type": "markdown",
      "metadata": {
        "id": "H_O2v90I3jZZ"
      },
      "source": [
        "Какова вероятность того, что я не найду работу с двух откликов?"
      ]
    },
    {
      "cell_type": "code",
      "metadata": {
        "id": "ktB4geVa3iWd",
        "colab": {
          "base_uri": "https://localhost:8080/",
          "height": 34
        },
        "outputId": "0fb173dc-dc81-4844-8152-28febebf9cfc"
      },
      "source": [
        "(1-p)*(1-p)"
      ],
      "execution_count": null,
      "outputs": [
        {
          "output_type": "execute_result",
          "data": {
            "text/plain": [
              "0.9801"
            ]
          },
          "metadata": {
            "tags": []
          },
          "execution_count": 4
        }
      ]
    },
    {
      "cell_type": "markdown",
      "metadata": {
        "id": "OYo6ubQV3rpU"
      },
      "source": [
        "Когда нужно чтобы произошли оба события, мы перемножаем вероятности. Какова вероятность, что я не найду работу с тремя откликами?"
      ]
    },
    {
      "cell_type": "code",
      "metadata": {
        "id": "TgyrR1rS3qln",
        "colab": {
          "base_uri": "https://localhost:8080/",
          "height": 34
        },
        "outputId": "0c0211fb-45d6-43ff-ee53-50525ba9ea72"
      },
      "source": [
        "(1-p)*(1-p)*(1-p)"
      ],
      "execution_count": null,
      "outputs": [
        {
          "output_type": "execute_result",
          "data": {
            "text/plain": [
              "0.9702989999999999"
            ]
          },
          "metadata": {
            "tags": []
          },
          "execution_count": 5
        }
      ]
    },
    {
      "cell_type": "markdown",
      "metadata": {
        "id": "BWd_x-CI371G"
      },
      "source": [
        "Видишь, вероятность снижается! Как найти вероятность при любом количестве откликов - возвести в степень. Например, для 20-ти откликов"
      ]
    },
    {
      "cell_type": "code",
      "metadata": {
        "id": "Vk4NRHRj360W",
        "colab": {
          "base_uri": "https://localhost:8080/",
          "height": 34
        },
        "outputId": "c77c32d4-ccc1-4c8c-abb5-f0dbb45426b3"
      },
      "source": [
        "(1-p)**20"
      ],
      "execution_count": null,
      "outputs": [
        {
          "output_type": "execute_result",
          "data": {
            "text/plain": [
              "0.8179069375972308"
            ]
          },
          "metadata": {
            "tags": []
          },
          "execution_count": 6
        }
      ]
    },
    {
      "cell_type": "markdown",
      "metadata": {
        "id": "fUQJxUfd4cXS"
      },
      "source": [
        "Как интерпретирировать эту вероятность? Что значит, когда говоришь, что на 20-ти откликах моя вероятность не найти работу равна 0.82? Это значит, что если бы существовало скажем 10000 копий тебя, то после 20-ой попытки примерно 8200 копий тебя еще бы не нашли работу, а примерно 1800 копий уже бы работали.\n",
        "<br></br>\n",
        "Так же как с вероятностью дождя. Например вероятность дождя сегодня равна 0.2 или 20% - без разницы. Это значит, что если этот день будет повторяться бесконечное количество раз, то в 20% этих дней будет идти дождь.\n",
        "<br></br>\n",
        "Еще важно понимать, что вероятность не найти работу никогда не будет равна нулю. Она будет приближаться к нюлю с ростом количества откликов. Но даже в случае когда она равна 99%, то если снова представить 10000 копий тебя, то 9900 из них будут с работой, а 100 без.\n",
        "<br></br>\n",
        "Возможно, симуляция в которой мы живем (Маск так говорит) запущена только ради твоей копии. И потом аналитик симуляций соберет данные о твоих копиях с других симуляций и сделает отчет (надеюсь не для Маска)\n",
        "<br></br>\n",
        "Ну и построим график."
      ]
    },
    {
      "cell_type": "code",
      "metadata": {
        "id": "Nc39hozF4YRx"
      },
      "source": [
        "df = pd.DataFrame({'кол-во откликов': range(1,200)})"
      ],
      "execution_count": null,
      "outputs": []
    },
    {
      "cell_type": "code",
      "metadata": {
        "id": "45nR1E-e6Dg-"
      },
      "source": [
        "df['вероятность что ты еще не нашел новую работу'] = df['кол-во откликов'].apply(lambda x: (1-p)**x)"
      ],
      "execution_count": null,
      "outputs": []
    },
    {
      "cell_type": "code",
      "metadata": {
        "id": "hH8CSlps6Ku5",
        "colab": {
          "base_uri": "https://localhost:8080/",
          "height": 296
        },
        "outputId": "01a85637-a377-421a-c585-ec5b52b989ae"
      },
      "source": [
        "df.set_index('кол-во откликов')['вероятность что ты еще не нашел новую работу'].plot(legend=True)"
      ],
      "execution_count": null,
      "outputs": [
        {
          "output_type": "execute_result",
          "data": {
            "text/plain": [
              "<matplotlib.axes._subplots.AxesSubplot at 0x7f6466b3d9b0>"
            ]
          },
          "metadata": {
            "tags": []
          },
          "execution_count": 9
        },
        {
          "output_type": "display_data",
          "data": {
            "image/png": "[encoded data removed]",
            "text/plain": [
              "<Figure size 432x288 with 1 Axes>"
            ]
          },
          "metadata": {
            "tags": []
          }
        }
      ]
    },
    {
      "cell_type": "markdown",
      "metadata": {
        "id": "B4XDV4s46f6M"
      },
      "source": [
        "Получается, что чтобы найди работу самый важный параметр это количество откликов. Это твоя экспозиция к случайному событию: нет экспозиции (откликов в данном случае) - нет события. Удачи!!!\n",
        "\n"
      ]
    },
    {
      "cell_type": "markdown",
      "metadata": {
        "id": "7xtkI4h8OFtF"
      },
      "source": [
        "https://www.glebmikhaylov.com/"
      ]
    }
  ]
}